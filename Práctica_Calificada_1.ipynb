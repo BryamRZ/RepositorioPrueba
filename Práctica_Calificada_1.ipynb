{
  "nbformat": 4,
  "nbformat_minor": 0,
  "metadata": {
    "colab": {
      "provenance": [],
      "authorship_tag": "ABX9TyOlyQyKKw30mIWjri2YEKLQ",
      "include_colab_link": true
    },
    "kernelspec": {
      "name": "python3",
      "display_name": "Python 3"
    },
    "language_info": {
      "name": "python"
    }
  },
  "cells": [
    {
      "cell_type": "markdown",
      "metadata": {
        "id": "view-in-github",
        "colab_type": "text"
      },
      "source": [
        "<a href=\"https://colab.research.google.com/github/BryamRZ/RepositorioPrueba/blob/main/Pr%C3%A1ctica_Calificada_1.ipynb\" target=\"_parent\"><img src=\"https://colab.research.google.com/assets/colab-badge.svg\" alt=\"Open In Colab\"/></a>"
      ]
    },
    {
      "cell_type": "markdown",
      "source": [
        "EJERCICIO 1"
      ],
      "metadata": {
        "id": "PFIYlXSxWw6A"
      }
    },
    {
      "cell_type": "code",
      "source": [
        "try:\n",
        "  km = float(input(\"Ingrese el numero de kilometros recorridos: \"))\n",
        "\n",
        "  if km<=300:\n",
        "    alquiler = 30\n",
        "  elif 300<km<=1000:\n",
        "    alquiler = 0.15*(km-300) + 30\n",
        "  else:\n",
        "    alquiler = 0.10*(km-1000) + 0.15*700 + 30\n",
        "except:\n",
        "  \n",
        "  print(\"ERROR: Ingrese una cantidad numérica.\")\n",
        "\n",
        "print (f\"El monto a pagar incluído el IGV es de {alquiler:.2f} $\")\n",
        "print (f\"El monto sin el IGV es de {alquiler*0.72:.2f} $\")"
      ],
      "metadata": {
        "id": "aVd3qtdDYCuA"
      },
      "execution_count": null,
      "outputs": []
    },
    {
      "cell_type": "markdown",
      "source": [
        "EJERCICIO 2"
      ],
      "metadata": {
        "id": "cLXPsM9_vbCF"
      }
    },
    {
      "cell_type": "code",
      "source": [
        "signo = [\"Capricornio\", \"Acuario\", \"Piscis\", \"Aries\", \"Tauro\", \"Geminis\", \"Cancer\", \"Leo\", \"Virgo\", \"Libra\", \"Escorpio\", \"Sagitario\", \"Capricornio\", \"Acuario\", \"Piscis\"]\n",
        "fecha = [20,19,20,20,20,21,22,23,22,22,22,21]\n",
        "\n",
        "print (\"Ejemplo: Si usted nació en el 8 de enero, su día de nacimiento es 8 y su mes de nacimiento es 1.\")\n",
        "\n",
        "dia = int(input(\"Digite su día de nacimiento: \"))\n",
        "mes = int(input(\"Digite su mes de nacimiento: \"))\n",
        "\n",
        "mes = mes - 1\n",
        "if dia>fecha[mes]:\n",
        "  mes = mes + 1 \n",
        "if mes == 12:\n",
        "  mes = 0\n",
        "print(\"Su signo zodiacal es: \", signo[mes])"
      ],
      "metadata": {
        "id": "XDKnPOfGvhY_"
      },
      "execution_count": null,
      "outputs": []
    },
    {
      "cell_type": "markdown",
      "source": [
        "EJERCICIO 3"
      ],
      "metadata": {
        "id": "b3LjoqsOAKNL"
      }
    },
    {
      "cell_type": "code",
      "source": [
        "n1 = float(input(\"Nota 1: \"))\n",
        "n2 = float(input(\"Nota 2: \"))\n",
        "n3 = float(input(\"Nota 3: \"))\n",
        "n4 = float(input(\"Nota 4: \"))\n",
        "\n",
        "if n1 > n2:\n",
        "  n1, n2 = n2, n1\n",
        "if n1 > n3:\n",
        "  n1, n3 = n3, n1\n",
        "if n1>n4:\n",
        "  n1, n4 = n4, n1\n",
        "if n2 > n3:\n",
        "  n2, n3 = n3, n2\n",
        "if n2 > n4:\n",
        "  n2, n4 = n4, n2\n",
        "if n3 > n4:\n",
        "  n3, n4 = n4, n3\n",
        "\n",
        "print (\"La nota eliminada es: \",n1)\n",
        "promedio = (n2+n3+n4)/3\n",
        "print(\"El promedio final es: \",round(promedio,0))"
      ],
      "metadata": {
        "id": "5fjGbt2qAN5a"
      },
      "execution_count": null,
      "outputs": []
    },
    {
      "cell_type": "markdown",
      "source": [
        "EJERCICIO 4"
      ],
      "metadata": {
        "id": "xrKkttWSncMp"
      }
    },
    {
      "cell_type": "code",
      "source": [
        "n1 = int(input(\"N1: \"))\n",
        "n2 = int(input(\"N2: \"))\n",
        "n3 = int(input(\"N3: \"))\n",
        "n4 = int(input(\"N4: \"))\n",
        "n5 = int(input(\"N5: \"))\n",
        "n6 = int(input(\"N6: \"))\n",
        "\n",
        "lista = [n1,n2,n3,n4,n5,n6]\n",
        "longitud = len(lista)\n",
        "for i in range(longitud-1):\n",
        "  menor = i\n",
        "  for j in range(i+1, longitud):\n",
        "    if lista[j]<lista[menor]:\n",
        "      menor = j\n",
        "  temporal = lista[menor]\n",
        "  lista[menor] = lista[i]\n",
        "  lista[i] = temporal\n",
        "print(\"Números ordenados en forma ascendente: \",lista)\n"
      ],
      "metadata": {
        "id": "VuYRAzhGneZM"
      },
      "execution_count": null,
      "outputs": []
    },
    {
      "cell_type": "markdown",
      "source": [
        "EJERCICIO 5"
      ],
      "metadata": {
        "id": "7c418jJXtVGA"
      }
    },
    {
      "cell_type": "code",
      "source": [],
      "metadata": {
        "id": "jc4C3jcZtXWg"
      },
      "execution_count": null,
      "outputs": []
    }
  ]
}